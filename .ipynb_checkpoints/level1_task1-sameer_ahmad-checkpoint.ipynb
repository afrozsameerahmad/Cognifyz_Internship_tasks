{
 "cells": [
  {
   "cell_type": "code",
   "execution_count": 1,
   "id": "d4f102a3-95d1-4561-b71a-b1a1155f9af8",
   "metadata": {},
   "outputs": [],
   "source": [
    "import pandas as pd \n",
    "import matplotlib.pyplot as plt\n",
    "import seaborn as sns"
   ]
  },
  {
   "cell_type": "code",
   "execution_count": 2,
   "id": "b014c272-147d-4e9f-b78b-54cb062558fc",
   "metadata": {},
   "outputs": [],
   "source": [
    "df = pd.read_csv(\"Dataset .csv\")"
   ]
  },
  {
   "cell_type": "code",
   "execution_count": 3,
   "id": "f92e7514-b1f4-4929-bf83-306a31c9129f",
   "metadata": {},
   "outputs": [
    {
     "name": "stdout",
     "output_type": "stream",
     "text": [
      "<class 'pandas.core.frame.DataFrame'>\n",
      "RangeIndex: 9551 entries, 0 to 9550\n",
      "Data columns (total 21 columns):\n",
      " #   Column                Non-Null Count  Dtype  \n",
      "---  ------                --------------  -----  \n",
      " 0   Restaurant ID         9551 non-null   int64  \n",
      " 1   Restaurant Name       9551 non-null   object \n",
      " 2   Country Code          9551 non-null   int64  \n",
      " 3   City                  9551 non-null   object \n",
      " 4   Address               9551 non-null   object \n",
      " 5   Locality              9551 non-null   object \n",
      " 6   Locality Verbose      9551 non-null   object \n",
      " 7   Longitude             9551 non-null   float64\n",
      " 8   Latitude              9551 non-null   float64\n",
      " 9   Cuisines              9542 non-null   object \n",
      " 10  Average Cost for two  9551 non-null   int64  \n",
      " 11  Currency              9551 non-null   object \n",
      " 12  Has Table booking     9551 non-null   object \n",
      " 13  Has Online delivery   9551 non-null   object \n",
      " 14  Is delivering now     9551 non-null   object \n",
      " 15  Switch to order menu  9551 non-null   object \n",
      " 16  Price range           9551 non-null   int64  \n",
      " 17  Aggregate rating      9551 non-null   float64\n",
      " 18  Rating color          9551 non-null   object \n",
      " 19  Rating text           9551 non-null   object \n",
      " 20  Votes                 9551 non-null   int64  \n",
      "dtypes: float64(3), int64(5), object(13)\n",
      "memory usage: 1.5+ MB\n",
      "None\n"
     ]
    }
   ],
   "source": [
    "print(df.info())"
   ]
  },
  {
   "cell_type": "code",
   "execution_count": 4,
   "id": "38cbd6af-aa9a-4113-96ba-19bfdbd8458e",
   "metadata": {},
   "outputs": [
    {
     "name": "stdout",
     "output_type": "stream",
     "text": [
      "   Restaurant ID         Restaurant Name  Country Code              City  \\\n",
      "0        6317637        Le Petit Souffle           162       Makati City   \n",
      "1        6304287        Izakaya Kikufuji           162       Makati City   \n",
      "2        6300002  Heat - Edsa Shangri-La           162  Mandaluyong City   \n",
      "3        6318506                    Ooma           162  Mandaluyong City   \n",
      "4        6314302             Sambo Kojin           162  Mandaluyong City   \n",
      "\n",
      "                                             Address  \\\n",
      "0  Third Floor, Century City Mall, Kalayaan Avenu...   \n",
      "1  Little Tokyo, 2277 Chino Roces Avenue, Legaspi...   \n",
      "2  Edsa Shangri-La, 1 Garden Way, Ortigas, Mandal...   \n",
      "3  Third Floor, Mega Fashion Hall, SM Megamall, O...   \n",
      "4  Third Floor, Mega Atrium, SM Megamall, Ortigas...   \n",
      "\n",
      "                                     Locality  \\\n",
      "0   Century City Mall, Poblacion, Makati City   \n",
      "1  Little Tokyo, Legaspi Village, Makati City   \n",
      "2  Edsa Shangri-La, Ortigas, Mandaluyong City   \n",
      "3      SM Megamall, Ortigas, Mandaluyong City   \n",
      "4      SM Megamall, Ortigas, Mandaluyong City   \n",
      "\n",
      "                                    Locality Verbose   Longitude   Latitude  \\\n",
      "0  Century City Mall, Poblacion, Makati City, Mak...  121.027535  14.565443   \n",
      "1  Little Tokyo, Legaspi Village, Makati City, Ma...  121.014101  14.553708   \n",
      "2  Edsa Shangri-La, Ortigas, Mandaluyong City, Ma...  121.056831  14.581404   \n",
      "3  SM Megamall, Ortigas, Mandaluyong City, Mandal...  121.056475  14.585318   \n",
      "4  SM Megamall, Ortigas, Mandaluyong City, Mandal...  121.057508  14.584450   \n",
      "\n",
      "                           Cuisines  ...          Currency Has Table booking  \\\n",
      "0        French, Japanese, Desserts  ...  Botswana Pula(P)               Yes   \n",
      "1                          Japanese  ...  Botswana Pula(P)               Yes   \n",
      "2  Seafood, Asian, Filipino, Indian  ...  Botswana Pula(P)               Yes   \n",
      "3                   Japanese, Sushi  ...  Botswana Pula(P)                No   \n",
      "4                  Japanese, Korean  ...  Botswana Pula(P)               Yes   \n",
      "\n",
      "  Has Online delivery Is delivering now Switch to order menu Price range  \\\n",
      "0                  No                No                   No           3   \n",
      "1                  No                No                   No           3   \n",
      "2                  No                No                   No           4   \n",
      "3                  No                No                   No           4   \n",
      "4                  No                No                   No           4   \n",
      "\n",
      "   Aggregate rating  Rating color Rating text Votes  \n",
      "0               4.8    Dark Green   Excellent   314  \n",
      "1               4.5    Dark Green   Excellent   591  \n",
      "2               4.4         Green   Very Good   270  \n",
      "3               4.9    Dark Green   Excellent   365  \n",
      "4               4.8    Dark Green   Excellent   229  \n",
      "\n",
      "[5 rows x 21 columns]\n"
     ]
    }
   ],
   "source": [
    "# Starting 5 rows\n",
    "print(df.head(5))"
   ]
  },
  {
   "cell_type": "code",
   "execution_count": 5,
   "id": "9b20fca7-ee9c-4b8e-8868-24082e307cf7",
   "metadata": {},
   "outputs": [
    {
     "name": "stdout",
     "output_type": "stream",
     "text": [
      "Restaurant ID           0\n",
      "Restaurant Name         0\n",
      "Country Code            0\n",
      "City                    0\n",
      "Address                 0\n",
      "Locality                0\n",
      "Locality Verbose        0\n",
      "Longitude               0\n",
      "Latitude                0\n",
      "Cuisines                9\n",
      "Average Cost for two    0\n",
      "Currency                0\n",
      "Has Table booking       0\n",
      "Has Online delivery     0\n",
      "Is delivering now       0\n",
      "Switch to order menu    0\n",
      "Price range             0\n",
      "Aggregate rating        0\n",
      "Rating color            0\n",
      "Rating text             0\n",
      "Votes                   0\n",
      "dtype: int64\n"
     ]
    }
   ],
   "source": [
    "# Checking missing values\n",
    "print(df.isnull().sum())"
   ]
  },
  {
   "cell_type": "code",
   "execution_count": 6,
   "id": "b7b21aa0-e443-4e7e-b512-a3135ce85f95",
   "metadata": {},
   "outputs": [],
   "source": [
    "# drop duplicate rows\n",
    "df = df.drop_duplicates()"
   ]
  },
  {
   "cell_type": "code",
   "execution_count": 7,
   "id": "90b5deeb-5baa-48fa-bb64-0509d8c8b215",
   "metadata": {},
   "outputs": [],
   "source": [
    "# Fill missing values in 'Cuisines' with 'Not Available'\n",
    "df['Cuisines'] = df['Cuisines'].fillna('Not Available')"
   ]
  },
  {
   "cell_type": "code",
   "execution_count": 8,
   "id": "e498e04a-756c-4826-a5d0-aa981875fbc5",
   "metadata": {},
   "outputs": [
    {
     "name": "stdout",
     "output_type": "stream",
     "text": [
      "Restaurant ID           0\n",
      "Restaurant Name         0\n",
      "Country Code            0\n",
      "City                    0\n",
      "Address                 0\n",
      "Locality                0\n",
      "Locality Verbose        0\n",
      "Longitude               0\n",
      "Latitude                0\n",
      "Cuisines                0\n",
      "Average Cost for two    0\n",
      "Currency                0\n",
      "Has Table booking       0\n",
      "Has Online delivery     0\n",
      "Is delivering now       0\n",
      "Switch to order menu    0\n",
      "Price range             0\n",
      "Aggregate rating        0\n",
      "Rating color            0\n",
      "Rating text             0\n",
      "Votes                   0\n",
      "dtype: int64\n"
     ]
    }
   ],
   "source": [
    "# Check missing values again for confirmation \n",
    "print( df.isnull().sum())"
   ]
  },
  {
   "cell_type": "markdown",
   "id": "58f05342-3a4a-44d9-8f89-9e969c8900aa",
   "metadata": {},
   "source": [
    "#now look fine no missing values in any columns"
   ]
  },
  {
   "cell_type": "code",
   "execution_count": 10,
   "id": "a267ca32-6e0f-4812-9eb1-e87cca4fb4ad",
   "metadata": {},
   "outputs": [],
   "source": [
    "#i observe all these below columns have YES and NO values so better to convert in boolean(TRUE/FALSE) it take less memory as compare to object type \n",
    "change_dtype_bool = ['Has Table booking', 'Has Online delivery', 'Is delivering now', 'Switch to order menu']\n",
    "df[change_dtype_bool] = df[change_dtype_bool].apply(lambda x: x.map({'Yes': True, 'No': False}).astype('bool'))"
   ]
  },
  {
   "cell_type": "code",
   "execution_count": 11,
   "id": "97164bd2-08b0-41b0-b651-914640031d2d",
   "metadata": {},
   "outputs": [
    {
     "name": "stdout",
     "output_type": "stream",
     "text": [
      "<class 'pandas.core.frame.DataFrame'>\n",
      "RangeIndex: 9551 entries, 0 to 9550\n",
      "Data columns (total 21 columns):\n",
      " #   Column                Non-Null Count  Dtype  \n",
      "---  ------                --------------  -----  \n",
      " 0   Restaurant ID         9551 non-null   int64  \n",
      " 1   Restaurant Name       9551 non-null   object \n",
      " 2   Country Code          9551 non-null   int64  \n",
      " 3   City                  9551 non-null   object \n",
      " 4   Address               9551 non-null   object \n",
      " 5   Locality              9551 non-null   object \n",
      " 6   Locality Verbose      9551 non-null   object \n",
      " 7   Longitude             9551 non-null   float64\n",
      " 8   Latitude              9551 non-null   float64\n",
      " 9   Cuisines              9551 non-null   object \n",
      " 10  Average Cost for two  9551 non-null   int64  \n",
      " 11  Currency              9551 non-null   object \n",
      " 12  Has Table booking     9551 non-null   bool   \n",
      " 13  Has Online delivery   9551 non-null   bool   \n",
      " 14  Is delivering now     9551 non-null   bool   \n",
      " 15  Switch to order menu  9551 non-null   bool   \n",
      " 16  Price range           9551 non-null   int64  \n",
      " 17  Aggregate rating      9551 non-null   float64\n",
      " 18  Rating color          9551 non-null   object \n",
      " 19  Rating text           9551 non-null   object \n",
      " 20  Votes                 9551 non-null   int64  \n",
      "dtypes: bool(4), float64(3), int64(5), object(9)\n",
      "memory usage: 1.3+ MB\n",
      "None\n"
     ]
    }
   ],
   "source": [
    "# Checking info again for confirmation\n",
    "print(df.info())"
   ]
  },
  {
   "cell_type": "markdown",
   "id": "d56662dd-9859-4163-8a9f-ca35e2a8a734",
   "metadata": {},
   "source": [
    "#successfully dtype change object into bool"
   ]
  },
  {
   "cell_type": "code",
   "execution_count": 13,
   "id": "2879d2b8-e3b8-4584-ba08-80a6ef637659",
   "metadata": {},
   "outputs": [],
   "source": [
    "# Belows columns have only few unique values that repeat again and again.\n",
    "# So i change them to 'category' type to save memory and make our data faster and cleaner.\n",
    "df['City'] = df['City'].astype('category')\n",
    "df['Locality'] = df['Locality'].astype('category')\n",
    "df['Locality Verbose'] = df['Locality Verbose'].astype('category')\n",
    "df['Currency'] = df['Currency'].astype('category')\n",
    "df['Rating color'] = df['Rating color'].astype('category')\n",
    "df['Rating text'] = df['Rating text'].astype('category')"
   ]
  },
  {
   "cell_type": "code",
   "execution_count": 14,
   "id": "c866aeb0-8b1b-4f6c-98bf-08e510e227bc",
   "metadata": {},
   "outputs": [
    {
     "name": "stdout",
     "output_type": "stream",
     "text": [
      "<class 'pandas.core.frame.DataFrame'>\n",
      "RangeIndex: 9551 entries, 0 to 9550\n",
      "Data columns (total 21 columns):\n",
      " #   Column                Non-Null Count  Dtype   \n",
      "---  ------                --------------  -----   \n",
      " 0   Restaurant ID         9551 non-null   int64   \n",
      " 1   Restaurant Name       9551 non-null   object  \n",
      " 2   Country Code          9551 non-null   int64   \n",
      " 3   City                  9551 non-null   category\n",
      " 4   Address               9551 non-null   object  \n",
      " 5   Locality              9551 non-null   category\n",
      " 6   Locality Verbose      9551 non-null   category\n",
      " 7   Longitude             9551 non-null   float64 \n",
      " 8   Latitude              9551 non-null   float64 \n",
      " 9   Cuisines              9551 non-null   object  \n",
      " 10  Average Cost for two  9551 non-null   int64   \n",
      " 11  Currency              9551 non-null   category\n",
      " 12  Has Table booking     9551 non-null   bool    \n",
      " 13  Has Online delivery   9551 non-null   bool    \n",
      " 14  Is delivering now     9551 non-null   bool    \n",
      " 15  Switch to order menu  9551 non-null   bool    \n",
      " 16  Price range           9551 non-null   int64   \n",
      " 17  Aggregate rating      9551 non-null   float64 \n",
      " 18  Rating color          9551 non-null   category\n",
      " 19  Rating text           9551 non-null   category\n",
      " 20  Votes                 9551 non-null   int64   \n",
      "dtypes: bool(4), category(6), float64(3), int64(5), object(3)\n",
      "memory usage: 1.0+ MB\n",
      "None\n"
     ]
    }
   ],
   "source": [
    "# Checking info again for confirmation\n",
    "print(df.info())"
   ]
  },
  {
   "cell_type": "markdown",
   "id": "e360550a-2304-4afe-b9ee-f3482fe3d131",
   "metadata": {},
   "source": [
    "#successfully changed from object to category "
   ]
  },
  {
   "cell_type": "code",
   "execution_count": 16,
   "id": "b70cddb5-0b25-4ed6-9a58-88ad577e801a",
   "metadata": {},
   "outputs": [],
   "source": [
    "# Converting these columns into smaller in size (downcasting to integer).\n",
    "# it help to save memory by using smaller integer types (like int16, int32) instead of larger ones (like int64)\n",
    "df['Restaurant ID'] = pd.to_numeric(df['Restaurant ID'], downcast='integer')\n",
    "df['Country Code'] = pd.to_numeric(df['Country Code'], downcast='integer')\n",
    "df['Average Cost for two'] = pd.to_numeric(df['Average Cost for two'], downcast='integer')\n",
    "df['Price range'] = pd.to_numeric(df['Price range'], downcast='integer')\n",
    "df['Votes'] = pd.to_numeric(df['Votes'], downcast='integer')"
   ]
  },
  {
   "cell_type": "code",
   "execution_count": 17,
   "id": "06f7fd4a-662e-491f-910d-f62ce8e9bbc6",
   "metadata": {},
   "outputs": [],
   "source": [
    "# also Converting the 'Aggregate rating' column to a smaller float type (like float32) to save memory,\n",
    "# the ratings are between 0 and 5 and don't need a large data type.\n",
    "df['Aggregate rating'] = pd.to_numeric(df['Aggregate rating'], downcast='float')"
   ]
  },
  {
   "cell_type": "code",
   "execution_count": 18,
   "id": "67bae2a3-5e41-4417-b12c-ac06e87b961e",
   "metadata": {},
   "outputs": [
    {
     "name": "stdout",
     "output_type": "stream",
     "text": [
      "<class 'pandas.core.frame.DataFrame'>\n",
      "RangeIndex: 9551 entries, 0 to 9550\n",
      "Data columns (total 21 columns):\n",
      " #   Column                Non-Null Count  Dtype   \n",
      "---  ------                --------------  -----   \n",
      " 0   Restaurant ID         9551 non-null   int32   \n",
      " 1   Restaurant Name       9551 non-null   object  \n",
      " 2   Country Code          9551 non-null   int16   \n",
      " 3   City                  9551 non-null   category\n",
      " 4   Address               9551 non-null   object  \n",
      " 5   Locality              9551 non-null   category\n",
      " 6   Locality Verbose      9551 non-null   category\n",
      " 7   Longitude             9551 non-null   float64 \n",
      " 8   Latitude              9551 non-null   float64 \n",
      " 9   Cuisines              9551 non-null   object  \n",
      " 10  Average Cost for two  9551 non-null   int32   \n",
      " 11  Currency              9551 non-null   category\n",
      " 12  Has Table booking     9551 non-null   bool    \n",
      " 13  Has Online delivery   9551 non-null   bool    \n",
      " 14  Is delivering now     9551 non-null   bool    \n",
      " 15  Switch to order menu  9551 non-null   bool    \n",
      " 16  Price range           9551 non-null   int8    \n",
      " 17  Aggregate rating      9551 non-null   float32 \n",
      " 18  Rating color          9551 non-null   category\n",
      " 19  Rating text           9551 non-null   category\n",
      " 20  Votes                 9551 non-null   int16   \n",
      "dtypes: bool(4), category(6), float32(1), float64(2), int16(2), int32(2), int8(1), object(3)\n",
      "memory usage: 742.9+ KB\n",
      "None\n"
     ]
    }
   ],
   "source": [
    "# final dataset information \n",
    "print(df.info())"
   ]
  },
  {
   "cell_type": "markdown",
   "id": "567d3a51-603b-498e-821e-4a12631558ee",
   "metadata": {},
   "source": [
    "#we can see that the differce in memory usage from 1.5+mb to 742.9+ KB changing the dtype help to reduce the memory usage"
   ]
  },
  {
   "cell_type": "code",
   "execution_count": 20,
   "id": "223e3d17-43a5-47a2-9865-2d393e5e61e2",
   "metadata": {},
   "outputs": [
    {
     "name": "stdout",
     "output_type": "stream",
     "text": [
      "Aggregate rating\n",
      "0.0    2148\n",
      "1.8       1\n",
      "1.9       2\n",
      "2.0       7\n",
      "2.1      15\n",
      "2.2      27\n",
      "2.3      47\n",
      "2.4      87\n",
      "2.5     110\n",
      "2.6     191\n",
      "2.7     250\n",
      "2.8     315\n",
      "2.9     381\n",
      "3.0     468\n",
      "3.1     519\n",
      "3.2     522\n",
      "3.3     483\n",
      "3.4     498\n",
      "3.5     480\n",
      "3.6     458\n",
      "3.7     427\n",
      "3.8     400\n",
      "3.9     335\n",
      "4.0     266\n",
      "4.1     274\n",
      "4.2     221\n",
      "4.3     174\n",
      "4.4     144\n",
      "4.5      95\n",
      "4.6      78\n",
      "4.7      42\n",
      "4.8      25\n",
      "4.9      61\n",
      "Name: count, dtype: int64\n"
     ]
    }
   ],
   "source": [
    "# Calculate the count for each Aggregate Rating\n",
    "rating_counts = df['Aggregate rating'].value_counts().sort_index()\n",
    "print(rating_counts)"
   ]
  },
  {
   "cell_type": "code",
   "execution_count": 21,
   "id": "1d9eb2d0-b439-432c-8ee8-80516315395a",
   "metadata": {},
   "outputs": [],
   "source": [
    "# Visual representation of the Aggregate Rating distribution for better understanding"
   ]
  },
  {
   "cell_type": "code",
   "execution_count": 22,
   "id": "0b87ec01-24ae-443e-82d5-34b3e8a559ec",
   "metadata": {},
   "outputs": [
    {
     "data": {
      "image/png": "[encoded data removed]",
      "text/plain": [
       "<Figure size 1400x600 with 1 Axes>"
      ]
     },
     "metadata": {},
     "output_type": "display_data"
    }
   ],
   "source": [
    "# Set the size of the plot (width, height)\n",
    "plt.figure(figsize=(14,6))\n",
    "sns.barplot(x=rating_counts.index, y=rating_counts.values, hue=rating_counts.index, palette='viridis', legend=False)\n",
    "# For x-axis\n",
    "plt.xlabel('Aggregate Rating', fontsize=16)\n",
    "# for y-axis\n",
    "plt.ylabel('Number of Restaurants', fontsize=14)   \n",
    "\n",
    "# Title of  plot\n",
    "plt.title('Number of Restaurants for Each Aggregate Rating', fontsize=16) \n",
    "\n",
    "# Rotate the x-axis labels by 90 degrees beacause it is too long its start overlapping which little bit more confusing \n",
    "plt.xticks(rotation=90)\n",
    "\n",
    "# Add the number of restaurant on top of each bar which help for better understanding \n",
    "for i, val in enumerate(rating_counts.values):\n",
    "    plt.text(i, val + 5, str(val), ha='center', va='bottom', fontsize=12) \n",
    "plt.tight_layout()\n",
    "plt.show()\n"
   ]
  },
  {
   "cell_type": "code",
   "execution_count": 23,
   "id": "8d0aa2b2-ff1c-4116-8f81-28ff1bcd8f5b",
   "metadata": {},
   "outputs": [],
   "source": [
    "# Save the cleaned dataset to a new CSV file \n",
    "df.to_csv(\"Cleaned_Dataset.csv\", index=False)"
   ]
  },
  {
   "cell_type": "code",
   "execution_count": 24,
   "id": "0cd284ca-fdd6-439b-b626-50c4f92c620e",
   "metadata": {},
   "outputs": [],
   "source": [
    "#now we can use this cleaned_dataset for  data analysis and visualization and also best for machine learning models.\n"
   ]
  },
  {
   "cell_type": "code",
   "execution_count": null,
   "id": "d5c8ac60-3405-4636-bf42-5de45eb994c7",
   "metadata": {},
   "outputs": [],
   "source": []
  }
 ],
 "metadata": {
  "kernelspec": {
   "display_name": "Python 3 (ipykernel)",
   "language": "python",
   "name": "python3"
  },
  "language_info": {
   "codemirror_mode": {
    "name": "ipython",
    "version": 3
   },
   "file_extension": ".py",
   "mimetype": "text/x-python",
   "name": "python",
   "nbconvert_exporter": "python",
   "pygments_lexer": "ipython3",
   "version": "3.12.7"
  }
 },
 "nbformat": 4,
 "nbformat_minor": 5
}
