{
 "cells": [
  {
   "cell_type": "code",
   "execution_count": 1,
   "id": "716236ce-5406-4217-8b7f-77e70a5105af",
   "metadata": {},
   "outputs": [],
   "source": [
    "import pandas as pd"
   ]
  },
  {
   "cell_type": "code",
   "execution_count": 2,
   "id": "a27c18f2-cb70-445c-8997-1a51b1e33f5b",
   "metadata": {},
   "outputs": [],
   "source": [
    "df = pd.read_csv('cleaned_Dataset.csv')"
   ]
  },
  {
   "cell_type": "markdown",
   "id": "f41e14c7-4d82-4cb9-8a04-8b7ca9858af7",
   "metadata": {},
   "source": [
    "# Extract additional features"
   ]
  },
  {
   "cell_type": "code",
   "execution_count": 4,
   "id": "d9ea09b8-c125-4854-bd2e-f239db55d67a",
   "metadata": {},
   "outputs": [
    {
     "name": "stdout",
     "output_type": "stream",
     "text": [
      "          Restaurant Name  Restaurant Name Length\n",
      "0        Le Petit Souffle                      16\n",
      "1        Izakaya Kikufuji                      16\n",
      "2  Heat - Edsa Shangri-La                      22\n",
      "3                    Ooma                       4\n",
      "4             Sambo Kojin                      11\n"
     ]
    }
   ],
   "source": [
    "#Length of the Restaurant Name\n",
    "df['Restaurant Name Length'] = df['Restaurant Name'].apply(len)\n",
    "print(df[['Restaurant Name', 'Restaurant Name Length']].head())"
   ]
  },
  {
   "cell_type": "code",
   "execution_count": 5,
   "id": "295dd5c2-134a-4eb6-b6c8-0282df911573",
   "metadata": {},
   "outputs": [
    {
     "name": "stdout",
     "output_type": "stream",
     "text": [
      "                                             Address  Address Length\n",
      "0  Third Floor, Century City Mall, Kalayaan Avenu...              71\n",
      "1  Little Tokyo, 2277 Chino Roces Avenue, Legaspi...              67\n",
      "2  Edsa Shangri-La, 1 Garden Way, Ortigas, Mandal...              56\n",
      "3  Third Floor, Mega Fashion Hall, SM Megamall, O...              70\n",
      "4  Third Floor, Mega Atrium, SM Megamall, Ortigas...              64\n"
     ]
    }
   ],
   "source": [
    "# Length of the Address\n",
    "df['Address Length'] = df['Address'].apply(len)\n",
    "print(df[['Address', 'Address Length']].head())"
   ]
  },
  {
   "cell_type": "markdown",
   "id": "d75adb58-583d-4f46-9815-4d2bddb31c19",
   "metadata": {},
   "source": [
    "# Encoding categorical variables"
   ]
  },
  {
   "cell_type": "code",
   "execution_count": 7,
   "id": "607eed80-8bb5-4198-9ca6-e640226c8fd9",
   "metadata": {},
   "outputs": [
    {
     "name": "stdout",
     "output_type": "stream",
     "text": [
      "   Has Table booking  Has Table Booking Encoded\n",
      "0               True                          1\n",
      "1               True                          1\n",
      "2               True                          1\n",
      "3              False                          0\n",
      "4               True                          1\n"
     ]
    }
   ],
   "source": [
    "# Encoding \"Has Table booking\" (True = 1, False = 0)\n",
    "df['Has Table Booking Encoded'] = df['Has Table booking'].apply(lambda x: 1 if x == True else 0)\n",
    "print(df[['Has Table booking', 'Has Table Booking Encoded']].head())"
   ]
  },
  {
   "cell_type": "code",
   "execution_count": 8,
   "id": "1d64bb07-666d-47ae-8c81-3c25f937fa8f",
   "metadata": {},
   "outputs": [
    {
     "name": "stdout",
     "output_type": "stream",
     "text": [
      "   Has Online delivery  Has Online Delivery Encoded\n",
      "0                False                            0\n",
      "1                False                            0\n",
      "2                False                            0\n",
      "3                False                            0\n",
      "4                False                            0\n"
     ]
    }
   ],
   "source": [
    "# Encoding \"Has Online delivery\" (True = 1, False = 0)\n",
    "df['Has Online Delivery Encoded'] = df['Has Online delivery'].apply(lambda x: 1 if x == True else 0)\n",
    "print(df[['Has Online delivery', 'Has Online Delivery Encoded']].head())"
   ]
  },
  {
   "cell_type": "code",
   "execution_count": null,
   "id": "1412113a-31ec-4e58-b049-64508b2801c5",
   "metadata": {},
   "outputs": [],
   "source": []
  }
 ],
 "metadata": {
  "kernelspec": {
   "display_name": "Python 3 (ipykernel)",
   "language": "python",
   "name": "python3"
  },
  "language_info": {
   "codemirror_mode": {
    "name": "ipython",
    "version": 3
   },
   "file_extension": ".py",
   "mimetype": "text/x-python",
   "name": "python",
   "nbconvert_exporter": "python",
   "pygments_lexer": "ipython3",
   "version": "3.12.7"
  }
 },
 "nbformat": 4,
 "nbformat_minor": 5
}
