{
 "cells": [
  {
   "cell_type": "code",
   "execution_count": 1,
   "id": "cb2b37e4-b1fe-479b-8461-bafe51c83b4d",
   "metadata": {},
   "outputs": [],
   "source": [
    "import pandas as pd\n",
    "from sklearn.model_selection import train_test_split\n",
    "from sklearn.linear_model import LinearRegression\n",
    "from sklearn.tree import DecisionTreeRegressor\n",
    "from sklearn.ensemble import RandomForestRegressor\n",
    "from sklearn.metrics import mean_absolute_error, mean_squared_error, r2_score\n",
    "import numpy as np"
   ]
  },
  {
   "cell_type": "code",
   "execution_count": 2,
   "id": "0295c74a-fa46-4f33-8893-84691e52962c",
   "metadata": {},
   "outputs": [],
   "source": [
    "df = pd.read_csv('cleaned_Dataset.csv')"
   ]
  },
  {
   "cell_type": "code",
   "execution_count": 3,
   "id": "76afbceb-f3e2-4b76-ac7b-5d70ed73c9a2",
   "metadata": {},
   "outputs": [],
   "source": [
    "# remove missing values in rating and price\n",
    "df = df.dropna(subset=[\"Aggregate rating\", \"Price range\", \"Has Table booking\", \"Has Online delivery\"])"
   ]
  },
  {
   "cell_type": "code",
   "execution_count": 4,
   "id": "9a9bf78e-7835-4c3a-a79e-fdc45f16c855",
   "metadata": {},
   "outputs": [],
   "source": [
    "# change True/False to 1/0\n",
    "df[\"Table_Booking\"] = df[\"Has Table booking\"].apply(lambda x: 1 if x == True else 0)\n",
    "df[\"Online_Delivery\"] = df[\"Has Online delivery\"].apply(lambda x: 1 if x == True else 0)"
   ]
  },
  {
   "cell_type": "code",
   "execution_count": 5,
   "id": "a11f489a-3bc0-43c0-b07b-db9141c59a1a",
   "metadata": {},
   "outputs": [],
   "source": [
    "# make some simple features\n",
    "df[\"Name_Length\"] = df[\"Restaurant Name\"].apply(len)\n",
    "df[\"Address_Length\"] = df[\"Address\"].apply(len)"
   ]
  },
  {
   "cell_type": "code",
   "execution_count": 6,
   "id": "40ee012a-e176-4488-9c6d-2feec8a563a4",
   "metadata": {},
   "outputs": [],
   "source": [
    "# input and output of data\n",
    "X = df[[\"Price range\", \"Table_Booking\", \"Online_Delivery\", \"Name_Length\", \"Address_Length\"]]\n",
    "y = df[\"Aggregate rating\"]"
   ]
  },
  {
   "cell_type": "code",
   "execution_count": 7,
   "id": "76c52597-57d1-4b36-bd8e-ccd0063f1972",
   "metadata": {},
   "outputs": [],
   "source": [
    "# spliting data\n",
    "X_train, X_test, y_train, y_test = train_test_split(X, y, test_size=0.2, random_state=1)"
   ]
  },
  {
   "cell_type": "code",
   "execution_count": 8,
   "id": "2b62eeaa-e3f9-42ed-82e8-0c0f9a48b70b",
   "metadata": {},
   "outputs": [
    {
     "name": "stdout",
     "output_type": "stream",
     "text": [
      "Linear Regression:-\n",
      "MAE: 1.0949178224216531\n",
      "RMSE: 1.3329355863048566\n",
      "R2: 0.21844902618319728\n"
     ]
    }
   ],
   "source": [
    "# Linear Regression\n",
    "model1 = LinearRegression()\n",
    "model1.fit(X_train, y_train)\n",
    "pred1 = model1.predict(X_test)\n",
    "print(\"Linear Regression:-\")\n",
    "print(\"MAE:\", mean_absolute_error(y_test, pred1))\n",
    "print(\"RMSE:\", np.sqrt(mean_squared_error(y_test, pred1)))\n",
    "print(\"R2:\", r2_score(y_test, pred1))"
   ]
  },
  {
   "cell_type": "code",
   "execution_count": 9,
   "id": "850d46bd-3693-4f7b-8302-980da253095b",
   "metadata": {},
   "outputs": [
    {
     "name": "stdout",
     "output_type": "stream",
     "text": [
      "Decision Tree:\n",
      "MAE: 1.2205178664872542\n",
      "RMSE: 1.6737876725691594\n",
      "R2: -0.23236601405249924\n"
     ]
    }
   ],
   "source": [
    "# Decision Tree\n",
    "model2 = DecisionTreeRegressor()\n",
    "model2.fit(X_train, y_train)\n",
    "pred2 = model2.predict(X_test)\n",
    "print(\"Decision Tree:\")\n",
    "print(\"MAE:\", mean_absolute_error(y_test, pred2))\n",
    "print(\"RMSE:\", np.sqrt(mean_squared_error(y_test, pred2)))\n",
    "print(\"R2:\", r2_score(y_test, pred2))"
   ]
  },
  {
   "cell_type": "code",
   "execution_count": 10,
   "id": "e14bf18b-5d3e-4ade-a00c-ebb8885d0ea3",
   "metadata": {},
   "outputs": [
    {
     "name": "stdout",
     "output_type": "stream",
     "text": [
      "Random Forest:-\n",
      "MAE: 1.0992788438337777\n",
      "RMSE: 1.4536681845179948\n",
      "R2: 0.07045685205161933\n"
     ]
    }
   ],
   "source": [
    "# Random Forest\n",
    "model3 = RandomForestRegressor()\n",
    "model3.fit(X_train, y_train)\n",
    "pred3 = model3.predict(X_test)\n",
    "print(\"Random Forest:-\")\n",
    "print(\"MAE:\", mean_absolute_error(y_test, pred3))\n",
    "print(\"RMSE:\", np.sqrt(mean_squared_error(y_test, pred3)))\n",
    "print(\"R2:\", r2_score(y_test, pred3))"
   ]
  },
  {
   "cell_type": "code",
   "execution_count": null,
   "id": "906f483e-30eb-4d02-82d1-4e97955fdd96",
   "metadata": {},
   "outputs": [],
   "source": []
  }
 ],
 "metadata": {
  "kernelspec": {
   "display_name": "Python 3 (ipykernel)",
   "language": "python",
   "name": "python3"
  },
  "language_info": {
   "codemirror_mode": {
    "name": "ipython",
    "version": 3
   },
   "file_extension": ".py",
   "mimetype": "text/x-python",
   "name": "python",
   "nbconvert_exporter": "python",
   "pygments_lexer": "ipython3",
   "version": "3.12.7"
  }
 },
 "nbformat": 4,
 "nbformat_minor": 5
}
