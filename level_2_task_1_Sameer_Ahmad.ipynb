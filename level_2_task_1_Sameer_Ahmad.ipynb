{
 "cells": [
  {
   "cell_type": "code",
   "execution_count": 1,
   "id": "af77f7d7-7dae-4c36-803e-4708f2a4bf7a",
   "metadata": {},
   "outputs": [],
   "source": [
    "import pandas as pd"
   ]
  },
  {
   "cell_type": "code",
   "execution_count": 2,
   "id": "dbe02111-e477-4e4f-866b-ffdc36ed05f6",
   "metadata": {},
   "outputs": [],
   "source": [
    "df = pd.read_csv('cleaned_Dataset.csv')"
   ]
  },
  {
   "cell_type": "code",
   "execution_count": 3,
   "id": "f0010164-c3ad-4ae2-9208-d5634fef06c6",
   "metadata": {},
   "outputs": [
    {
     "name": "stdout",
     "output_type": "stream",
     "text": [
      "   Restaurant ID         Restaurant Name  Country Code              City  \\\n",
      "0        6317637        Le Petit Souffle           162       Makati City   \n",
      "1        6304287        Izakaya Kikufuji           162       Makati City   \n",
      "2        6300002  Heat - Edsa Shangri-La           162  Mandaluyong City   \n",
      "3        6318506                    Ooma           162  Mandaluyong City   \n",
      "4        6314302             Sambo Kojin           162  Mandaluyong City   \n",
      "\n",
      "                                             Address  \\\n",
      "0  Third Floor, Century City Mall, Kalayaan Avenu...   \n",
      "1  Little Tokyo, 2277 Chino Roces Avenue, Legaspi...   \n",
      "2  Edsa Shangri-La, 1 Garden Way, Ortigas, Mandal...   \n",
      "3  Third Floor, Mega Fashion Hall, SM Megamall, O...   \n",
      "4  Third Floor, Mega Atrium, SM Megamall, Ortigas...   \n",
      "\n",
      "                                     Locality  \\\n",
      "0   Century City Mall, Poblacion, Makati City   \n",
      "1  Little Tokyo, Legaspi Village, Makati City   \n",
      "2  Edsa Shangri-La, Ortigas, Mandaluyong City   \n",
      "3      SM Megamall, Ortigas, Mandaluyong City   \n",
      "4      SM Megamall, Ortigas, Mandaluyong City   \n",
      "\n",
      "                                    Locality Verbose   Longitude   Latitude  \\\n",
      "0  Century City Mall, Poblacion, Makati City, Mak...  121.027535  14.565443   \n",
      "1  Little Tokyo, Legaspi Village, Makati City, Ma...  121.014101  14.553708   \n",
      "2  Edsa Shangri-La, Ortigas, Mandaluyong City, Ma...  121.056831  14.581404   \n",
      "3  SM Megamall, Ortigas, Mandaluyong City, Mandal...  121.056475  14.585318   \n",
      "4  SM Megamall, Ortigas, Mandaluyong City, Mandal...  121.057508  14.584450   \n",
      "\n",
      "                           Cuisines  ...          Currency Has Table booking  \\\n",
      "0        French, Japanese, Desserts  ...  Botswana Pula(P)              True   \n",
      "1                          Japanese  ...  Botswana Pula(P)              True   \n",
      "2  Seafood, Asian, Filipino, Indian  ...  Botswana Pula(P)              True   \n",
      "3                   Japanese, Sushi  ...  Botswana Pula(P)             False   \n",
      "4                  Japanese, Korean  ...  Botswana Pula(P)              True   \n",
      "\n",
      "   Has Online delivery  Is delivering now  Switch to order menu  Price range  \\\n",
      "0                False              False                 False            3   \n",
      "1                False              False                 False            3   \n",
      "2                False              False                 False            4   \n",
      "3                False              False                 False            4   \n",
      "4                False              False                 False            4   \n",
      "\n",
      "   Aggregate rating  Rating color Rating text Votes  \n",
      "0               4.8    Dark Green   Excellent   314  \n",
      "1               4.5    Dark Green   Excellent   591  \n",
      "2               4.4         Green   Very Good   270  \n",
      "3               4.9    Dark Green   Excellent   365  \n",
      "4               4.8    Dark Green   Excellent   229  \n",
      "\n",
      "[5 rows x 21 columns]\n"
     ]
    }
   ],
   "source": [
    "print(df.head())"
   ]
  },
  {
   "cell_type": "code",
   "execution_count": 4,
   "id": "a932af67-790a-44c3-a962-52f8d5db90d8",
   "metadata": {},
   "outputs": [
    {
     "name": "stdout",
     "output_type": "stream",
     "text": [
      "9551\n"
     ]
    }
   ],
   "source": [
    "# Total number of restaurants\n",
    "total = len(df)\n",
    "print(total)"
   ]
  },
  {
   "cell_type": "markdown",
   "id": "1c24a0d2-6bd1-4017-9de7-c2544e997ec7",
   "metadata": {},
   "source": [
    "# 1. Percentage of Table Booking and Online Delivery"
   ]
  },
  {
   "cell_type": "code",
   "execution_count": 6,
   "id": "025f97b4-e251-4369-8070-5123c57d7714",
   "metadata": {},
   "outputs": [
    {
     "name": "stdout",
     "output_type": "stream",
     "text": [
      "Number of restaurants with table booking: 1158\n",
      "Percentage of restaurants with table booking: 12.124384881164275\n"
     ]
    }
   ],
   "source": [
    "# Count and percentage for table booking\n",
    "table_yes = df[df['Has Table booking'] == True].shape[0]\n",
    "table_percent = (table_yes / total) * 100\n",
    "print(\"Number of restaurants with table booking:\", table_yes)\n",
    "print(\"Percentage of restaurants with table booking:\", table_percent)"
   ]
  },
  {
   "cell_type": "code",
   "execution_count": 7,
   "id": "4aa05980-71e9-4b94-aaf1-84ac26d03743",
   "metadata": {},
   "outputs": [
    {
     "name": "stdout",
     "output_type": "stream",
     "text": [
      "Number of restaurants with online delivery: 2451\n",
      "Percentage with online delivery: 25.66%\n"
     ]
    }
   ],
   "source": [
    "# Count and percentage for online delivery\n",
    "delivery_yes = df[df['Has Online delivery'] == True].shape[0]\n",
    "delivery_percent = (delivery_yes / total) * 100\n",
    "print(\"Number of restaurants with online delivery:\", delivery_yes)\n",
    "print(\"Percentage with online delivery: {:.2f}%\".format(delivery_percent))"
   ]
  },
  {
   "cell_type": "markdown",
   "id": "98949b03-ba5e-43bf-8a74-e6f03150c953",
   "metadata": {},
   "source": [
    "# 2. Compare Average Ratings (Table Booking: Yes vs No)"
   ]
  },
  {
   "cell_type": "code",
   "execution_count": 9,
   "id": "8835b2e8-9649-4f1f-8c03-57e63e13d021",
   "metadata": {},
   "outputs": [
    {
     "name": "stdout",
     "output_type": "stream",
     "text": [
      "Average rating (Table booking = True): 3.44\n",
      "Average rating (Table booking = False): 2.56\n"
     ]
    }
   ],
   "source": [
    "df['Aggregate rating'] = pd.to_numeric(df['Aggregate rating'], errors='coerce')\n",
    "# Average rating for table booking is True\n",
    "avg_rating_yes = df[df['Has Table booking'] == True]['Aggregate rating'].mean()\n",
    "# Average rating for table booking is False\n",
    "avg_rating_no = df[df['Has Table booking'] == False]['Aggregate rating'].mean()\n",
    "print(\"Average rating (Table booking = True): {:.2f}\".format(avg_rating_yes))\n",
    "print(\"Average rating (Table booking = False): {:.2f}\".format(avg_rating_no))"
   ]
  },
  {
   "cell_type": "markdown",
   "id": "6bac4621-8c6e-4c9a-adfb-5407c8aaba52",
   "metadata": {},
   "source": [
    "# 3. Online Delivery Availability by Price Range"
   ]
  },
  {
   "cell_type": "code",
   "execution_count": 11,
   "id": "62928f3e-3dcd-41e8-abf7-a2ec32aa401d",
   "metadata": {},
   "outputs": [
    {
     "name": "stdout",
     "output_type": "stream",
     "text": [
      "Has Online delivery  False  True \n",
      "Price range                      \n",
      "1                     3743    701\n",
      "2                     1827   1286\n",
      "3                      997    411\n",
      "4                      533     53\n"
     ]
    }
   ],
   "source": [
    "delivery_by_price = df.groupby(['Price range', 'Has Online delivery']).size().unstack()\n",
    "print(delivery_by_price)"
   ]
  },
  {
   "cell_type": "code",
   "execution_count": null,
   "id": "24bcf1ac-54f7-4bc8-951e-0da012f8fb1d",
   "metadata": {},
   "outputs": [],
   "source": []
  }
 ],
 "metadata": {
  "kernelspec": {
   "display_name": "Python 3 (ipykernel)",
   "language": "python",
   "name": "python3"
  },
  "language_info": {
   "codemirror_mode": {
    "name": "ipython",
    "version": 3
   },
   "file_extension": ".py",
   "mimetype": "text/x-python",
   "name": "python",
   "nbconvert_exporter": "python",
   "pygments_lexer": "ipython3",
   "version": "3.12.7"
  }
 },
 "nbformat": 4,
 "nbformat_minor": 5
}
