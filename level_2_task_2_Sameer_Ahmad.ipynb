{
 "cells": [
  {
   "cell_type": "code",
   "execution_count": 1,
   "id": "9f554b2c-fac4-4800-94ad-faf2f0d5cf8f",
   "metadata": {},
   "outputs": [],
   "source": [
    "import pandas as pd"
   ]
  },
  {
   "cell_type": "code",
   "execution_count": 2,
   "id": "21c17c64-62de-4336-97f5-c94cb35bb41d",
   "metadata": {},
   "outputs": [],
   "source": [
    "df = pd.read_csv('cleaned_Dataset.csv')"
   ]
  },
  {
   "cell_type": "code",
   "execution_count": 3,
   "id": "3b6c4e30-48ae-4510-8ec0-57e951979c9d",
   "metadata": {},
   "outputs": [],
   "source": [
    "df['Aggregate rating'] = pd.to_numeric(df['Aggregate rating'], errors='coerce')"
   ]
  },
  {
   "cell_type": "markdown",
   "id": "0c8e7c20-ed90-4f9c-a743-afffe9aefccd",
   "metadata": {},
   "source": [
    "#  Most Common Price Range"
   ]
  },
  {
   "cell_type": "code",
   "execution_count": 5,
   "id": "1fba6c61-e47e-4064-be6b-dadd0d4bf8d2",
   "metadata": {},
   "outputs": [
    {
     "name": "stdout",
     "output_type": "stream",
     "text": [
      " Most common price range: 1\n"
     ]
    }
   ],
   "source": [
    "most_common_price = df['Price range'].mode()[0]\n",
    "print(\" Most common price range:\", most_common_price)"
   ]
  },
  {
   "cell_type": "markdown",
   "id": "126066e0-a248-4d02-b0d2-2c5d88aa9a70",
   "metadata": {},
   "source": [
    "# Average Rating for Each Price Range"
   ]
  },
  {
   "cell_type": "code",
   "execution_count": 7,
   "id": "cd019ae2-04a6-4021-898b-2bff16dd3cbf",
   "metadata": {},
   "outputs": [
    {
     "name": "stdout",
     "output_type": "stream",
     "text": [
      "Price range\n",
      "1    1.999887\n",
      "2    2.941054\n",
      "3    3.683381\n",
      "4    3.817918\n",
      "Name: Aggregate rating, dtype: float64\n"
     ]
    }
   ],
   "source": [
    "avg_rating_by_price = df.groupby('Price range')['Aggregate rating'].mean()\n",
    "print(avg_rating_by_price)"
   ]
  },
  {
   "cell_type": "markdown",
   "id": "96256398-df99-4a7c-8c85-e98615ac8676",
   "metadata": {},
   "source": [
    "# Rating Color for Highest Average Rating"
   ]
  },
  {
   "cell_type": "code",
   "execution_count": 9,
   "id": "5a6ef50e-4351-46d7-8115-11a61f46a37e",
   "metadata": {},
   "outputs": [
    {
     "name": "stdout",
     "output_type": "stream",
     "text": [
      "    Price range Rating color  Aggregate rating\n",
      "0             1   Dark Green          4.668750\n",
      "1             1        Green          4.157639\n",
      "2             1       Orange          3.040464\n",
      "3             1          Red          2.293548\n",
      "4             1        White          0.000000\n",
      "5             1       Yellow          3.661842\n",
      "6             2   Dark Green          4.627536\n",
      "7             2        Green          4.159385\n",
      "8             2       Orange          3.048491\n",
      "9             2          Red          2.300000\n",
      "10            2        White          0.000000\n",
      "11            2       Yellow          3.671159\n",
      "12            3   Dark Green          4.646032\n",
      "13            3        Green          4.169231\n",
      "14            3       Orange          3.097764\n",
      "15            3          Red          2.305000\n",
      "16            3        White          0.000000\n",
      "17            3       Yellow          3.716265\n",
      "18            4   Dark Green          4.709459\n",
      "19            4        Green          4.188144\n",
      "20            4       Orange          3.162376\n",
      "21            4          Red          2.283333\n",
      "22            4        White          0.000000\n",
      "23            4       Yellow          3.716000\n"
     ]
    }
   ],
   "source": [
    "# First, calculate average rating for each price range\n",
    "# Then merge it back with rating color\n",
    "avg_rating_df = df.groupby(['Price range', 'Rating color'])['Aggregate rating'].mean().reset_index()\n",
    "print(avg_rating_df)"
   ]
  },
  {
   "cell_type": "code",
   "execution_count": 10,
   "id": "9192cd7e-5d76-4fcf-9687-db05723f9bbf",
   "metadata": {},
   "outputs": [
    {
     "name": "stdout",
     "output_type": "stream",
     "text": [
      "   Price range Rating color  Aggregate rating\n",
      "0            4   Dark Green          4.709459\n",
      "1            1   Dark Green          4.668750\n",
      "2            3   Dark Green          4.646032\n",
      "3            2   Dark Green          4.627536\n"
     ]
    }
   ],
   "source": [
    "best_color_per_price = avg_rating_df.sort_values('Aggregate rating', ascending=False).drop_duplicates('Price range').reset_index(drop=True)\n",
    "print(best_color_per_price[['Price range', 'Rating color', 'Aggregate rating']])"
   ]
  },
  {
   "cell_type": "code",
   "execution_count": null,
   "id": "2c936443-3900-4ec7-aca5-751ae8ff0d35",
   "metadata": {},
   "outputs": [],
   "source": []
  }
 ],
 "metadata": {
  "kernelspec": {
   "display_name": "Python 3 (ipykernel)",
   "language": "python",
   "name": "python3"
  },
  "language_info": {
   "codemirror_mode": {
    "name": "ipython",
    "version": 3
   },
   "file_extension": ".py",
   "mimetype": "text/x-python",
   "name": "python",
   "nbconvert_exporter": "python",
   "pygments_lexer": "ipython3",
   "version": "3.12.7"
  }
 },
 "nbformat": 4,
 "nbformat_minor": 5
}
