{
 "cells": [
  {
   "cell_type": "code",
   "execution_count": 1,
   "id": "edfea79c-e97a-44f5-9609-b79c4eaeaa76",
   "metadata": {},
   "outputs": [],
   "source": [
    "import pandas as pd"
   ]
  },
  {
   "cell_type": "code",
   "execution_count": 2,
   "id": "c9b763d5-99f5-4af2-a3ea-a072f92849a0",
   "metadata": {},
   "outputs": [],
   "source": [
    "df = pd.read_csv('cleaned_Dataset.csv')"
   ]
  },
  {
   "cell_type": "code",
   "execution_count": 3,
   "id": "f108b604-8dc7-4a46-a89e-cd402b6c30ae",
   "metadata": {},
   "outputs": [],
   "source": [
    "# Take only the first cuisine if there are multiple (eg- \"North Indian, Chinese\")\n",
    "df[\"Main_Cuisine\"] = df[\"Cuisines\"].apply(lambda x: x.split(',')[0].strip())"
   ]
  },
  {
   "cell_type": "code",
   "execution_count": 4,
   "id": "2cb5b482-abc7-4be0-85a3-c137342bb4e1",
   "metadata": {},
   "outputs": [
    {
     "name": "stdout",
     "output_type": "stream",
     "text": [
      "      Main_Cuisine  Aggregate rating   Votes  Restaurant ID\n",
      "0          Afghani          0.414286      44              7\n",
      "1          African          4.450000     638              2\n",
      "2         American          3.555755  105447            278\n",
      "3           Andhra          3.500000     417              3\n",
      "4          Arabian          3.480000     636              5\n",
      "..             ...               ...     ...            ...\n",
      "115        Turkish          3.171429    1366              7\n",
      "116  Turkish Pizza          4.300000     103              1\n",
      "117     Vietnamese          4.133333     449              3\n",
      "118        Western          3.700000     291              2\n",
      "119  World Cuisine          4.500000    1244              3\n",
      "\n",
      "[120 rows x 4 columns]\n"
     ]
    }
   ],
   "source": [
    "# Group by cuisine and get average rating and total votes\n",
    "cuisine_group = df.groupby(\"Main_Cuisine\").agg({\n",
    "    \"Aggregate rating\": \"mean\",\n",
    "    \"Votes\": \"sum\",\n",
    "    \"Restaurant ID\": \"count\"\n",
    "}).reset_index()\n",
    "print(cuisine_group)"
   ]
  },
  {
   "cell_type": "code",
   "execution_count": 5,
   "id": "09249e99-c285-4d3e-87b4-e1e2868d1494",
   "metadata": {},
   "outputs": [
    {
     "name": "stdout",
     "output_type": "stream",
     "text": [
      "Top 10 cuisines by average rating:\n",
      "      Main_Cuisine  Aggregate rating  Votes  Restaurant ID\n",
      "107          Sunda          4.900000   5514              3\n",
      "97        Scottish          4.700000    163              1\n",
      "24           Cajun          4.700000   1412              1\n",
      "109      Taiwanese          4.650000    384              2\n",
      "37        Filipino          4.616667   2727              6\n",
      "86         Persian          4.600000    177              1\n",
      "92           Ramen          4.600000    418              1\n",
      "119  World Cuisine          4.500000   1244              3\n",
      "5        Argentine          4.500000    602              1\n",
      "46        Hawaiian          4.480000   5749              5\n"
     ]
    }
   ],
   "source": [
    "# find cuisines with highest average ratings\n",
    "top_rated = cuisine_group.sort_values(by=\"Aggregate rating\", ascending=False)\n",
    "print(\"Top 10 cuisines by average rating:\")\n",
    "print(top_rated.head(10))"
   ]
  },
  {
   "cell_type": "code",
   "execution_count": 6,
   "id": "5cf2c413-8db4-4787-a76c-74814072ee43",
   "metadata": {},
   "outputs": [
    {
     "name": "stdout",
     "output_type": "stream",
     "text": [
      "Top 10 most voted cuisines:\n",
      "    Main_Cuisine  Aggregate rating   Votes  Restaurant ID\n",
      "79  North Indian          2.399699  356684           2992\n",
      "23          Cafe          3.232415  116576            617\n",
      "2       American          3.555755  105447            278\n",
      "54       Italian          3.453846   95153            234\n",
      "30   Continental          3.606809   94569            235\n",
      "27       Chinese          2.325731   84918            855\n",
      "35      European          3.887097   45842             62\n",
      "36     Fast Food          2.351042   42617            672\n",
      "12        Bakery          2.332206   42008            621\n",
      "88         Pizza          2.725000   36415            232\n"
     ]
    }
   ],
   "source": [
    "# find most popular cuisines\n",
    "most_voted = cuisine_group.sort_values(by=\"Votes\", ascending=False)\n",
    "print(\"Top 10 most voted cuisines:\")\n",
    "print(most_voted.head(10))"
   ]
  },
  {
   "cell_type": "code",
   "execution_count": null,
   "id": "870d3003-43df-46ac-9f1e-cf741c90382c",
   "metadata": {},
   "outputs": [],
   "source": []
  }
 ],
 "metadata": {
  "kernelspec": {
   "display_name": "Python 3 (ipykernel)",
   "language": "python",
   "name": "python3"
  },
  "language_info": {
   "codemirror_mode": {
    "name": "ipython",
    "version": 3
   },
   "file_extension": ".py",
   "mimetype": "text/x-python",
   "name": "python",
   "nbconvert_exporter": "python",
   "pygments_lexer": "ipython3",
   "version": "3.12.7"
  }
 },
 "nbformat": 4,
 "nbformat_minor": 5
}
